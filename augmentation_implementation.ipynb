{
 "cells": [
  {
   "cell_type": "markdown",
   "metadata": {},
   "source": [
    "# Import Modules"
   ]
  },
  {
   "cell_type": "code",
   "execution_count": 254,
   "metadata": {},
   "outputs": [],
   "source": [
    "import numpy as np\n",
    "import pandas as pd\n",
    "import tensorflow as tf\n",
    "\n",
    "import random\n",
    "import matplotlib.pyplot as plt\n",
    "from sklearn.metrics import accuracy_score, confusion_matrix, matthews_corrcoef\n",
    "\n",
    "from tensorflow.keras.models import Sequential\n",
    "from tensorflow.keras.layers import Flatten, Dense\n",
    "from tensorflow.keras.callbacks import EarlyStopping\n",
    "tf.keras.utils.set_random_seed(42)\n"
   ]
  },
  {
   "cell_type": "markdown",
   "metadata": {},
   "source": [
    "# BLOSUM62"
   ]
  },
  {
   "cell_type": "code",
   "execution_count": 255,
   "metadata": {},
   "outputs": [
    {
     "name": "stdout",
     "output_type": "stream",
     "text": [
      "{'A': ['S'], 'R': ['Q', 'K'], 'N': ['D', 'H', 'S'], 'D': ['N', 'E'], 'C': [], 'Q': ['R', 'E', 'K'], 'E': ['D', 'Q', 'K'], 'G': [], 'H': ['N', 'Y'], 'I': ['L', 'M', 'V'], 'L': ['I', 'M', 'V'], 'K': ['R', 'Q', 'E'], 'M': ['I', 'L', 'V'], 'F': ['W', 'Y'], 'P': [], 'S': ['A', 'N', 'T'], 'T': ['S'], 'W': ['F', 'Y'], 'Y': ['H', 'F', 'W'], 'V': ['I', 'L', 'M']}\n"
     ]
    }
   ],
   "source": [
    "# Define BLOSUM62 matrix as a dictionary of dictionaries\n",
    "blosum62 = {\n",
    "    'A': {'A': 4, 'R': -1, 'N': -2, 'D': -2, 'C': 0, 'Q': -1, 'E': -1, 'G': 0, 'H': -2, 'I': -1, 'L': -1, 'K': -1, 'M': -1, 'F': -2, 'P': -1, 'S': 1, 'T': 0, 'W': -3, 'Y': -2, 'V': 0},\n",
    "    'R': {'A': -1, 'R': 5, 'N': 0, 'D': -2, 'C': -3, 'Q': 1, 'E': 0, 'G': -2, 'H': 0, 'I': -3, 'L': -2, 'K': 2, 'M': -1, 'F': -3, 'P': -2, 'S': -1, 'T': -1, 'W': -3, 'Y': -2, 'V': -3},\n",
    "    'N': {'A': -2, 'R': 0, 'N': 6, 'D': 1, 'C': -3, 'Q': 0, 'E': 0, 'G': 0, 'H': 1, 'I': -3, 'L': -3, 'K': 0, 'M': -2, 'F': -3, 'P': -2, 'S': 1, 'T': 0, 'W': -4, 'Y': -2, 'V': -3},\n",
    "    'D': {'A': -2, 'R': -2, 'N': 1, 'D': 6, 'C': -3, 'Q': 0, 'E': 2, 'G': -1, 'H': -1, 'I': -3, 'L': -4, 'K': -1, 'M': -3, 'F': -3, 'P': -1, 'S': 0, 'T': -1, 'W': -4, 'Y': -3, 'V': -3},\n",
    "    'C': {'A': 0, 'R': -3, 'N': -3, 'D': -3, 'C': 9, 'Q': -3, 'E': -4, 'G': -3, 'H': -3, 'I': -1, 'L': -1, 'K': -3, 'M': -1, 'F': -2, 'P': -3, 'S': -1, 'T': -1, 'W': -2, 'Y': -2, 'V': -1},\n",
    "    'Q': {'A': -1, 'R': 1, 'N': 0, 'D': 0, 'C': -3, 'Q': 5, 'E': 2, 'G': -2, 'H': 0, 'I': -3, 'L': -2, 'K': 1, 'M': 0, 'F': -3, 'P': -1, 'S': 0, 'T': -1, 'W': -2, 'Y': -1, 'V': -2},\n",
    "    'E': {'A': -1, 'R': 0, 'N': 0, 'D': 2, 'C': -4, 'Q': 2, 'E': 5, 'G': -2, 'H': 0, 'I': -3, 'L': -3, 'K': 1, 'M': -2, 'F': -3, 'P': -1, 'S': 0, 'T': -1, 'W': -3, 'Y': -2, 'V': -2},\n",
    "    'G': {'A': 0, 'R': -2, 'N': 0, 'D': -1, 'C': -3, 'Q': -2, 'E': -2, 'G': 6, 'H': -2, 'I': -4, 'L': -4, 'K': -2, 'M': -3, 'F': -3, 'P': -2, 'S': 0, 'T': -2, 'W': -2, 'Y': -3, 'V': -3},\n",
    "    'H': {'A': -2, 'R': 0, 'N': 1, 'D': -1, 'C': -3, 'Q': 0, 'E': 0, 'G': -2, 'H': 8, 'I': -3, 'L': -3, 'K': -1, 'M': -2, 'F': -1, 'P': -2, 'S': -1, 'T': -2, 'W': -2, 'Y': 2, 'V': -3},\n",
    "    'I': {'A': -1, 'R': -3, 'N': -3, 'D': -3, 'C': -1, 'Q': -3, 'E': -3, 'G': -4, 'H': -3, 'I': 4, 'L': 2, 'K': -3, 'M': 1, 'F': 0, 'P': -3, 'S': -2, 'T': -1, 'W': -3, 'Y': -1, 'V': 3},\n",
    "    'L': {'A': -1, 'R': -2, 'N': -3, 'D': -4, 'C': -1, 'Q': -2, 'E': -3, 'G': -4, 'H': -3, 'I': 2, 'L': 4, 'K': -2, 'M': 2, 'F': 0, 'P': -3, 'S': -2, 'T': -1, 'W': -2, 'Y': -1, 'V': 1},\n",
    "    'K': {'A': -1, 'R': 2, 'N': 0, 'D': -1, 'C': -3, 'Q': 1, 'E': 1, 'G': -2, 'H': -1, 'I': -3, 'L': -2, 'K': 5, 'M': -1, 'F': -3, 'P': -1, 'S': 0, 'T': -1, 'W': -3, 'Y': -2, 'V': -2},\n",
    "    'M': {'A': -1, 'R': -1, 'N': -2, 'D': -3, 'C': -1, 'Q': 0, 'E': -2, 'G': -3, 'H': -2, 'I': 1, 'L': 2, 'K': -1, 'M': 5, 'F': 0, 'P': -2, 'S': -1, 'T': -1, 'W': -1, 'Y': -1, 'V': 1},\n",
    "    'F': {'A': -2, 'R': -3, 'N': -3, 'D': -3, 'C': -2, 'Q': -3, 'E': -3, 'G': -3, 'H': -1, 'I': 0, 'L': 0, 'K': -3, 'M': 0, 'F': 6, 'P': -4, 'S': -2, 'T': -2, 'W': 1, 'Y': 3, 'V': -1},\n",
    "    'P': {'A': -1, 'R': -2, 'N': -2, 'D': -1, 'C': -3, 'Q': -1, 'E': -1, 'G': -2, 'H': -2, 'I': -3, 'L': -3, 'K': -1, 'M': -2, 'F': -4, 'P': 7, 'S': -1, 'T': -1, 'W': -4, 'Y': -3, 'V': -2},\n",
    "    'S': {'A': 1, 'R': -1, 'N': 1, 'D': 0, 'C': -1, 'Q': 0, 'E': 0, 'G': 0, 'H': -1, 'I': -2, 'L': -2, 'K': 0, 'M': -1, 'F': -2, 'P': -1, 'S': 4, 'T': 1, 'W': -3, 'Y': -2, 'V': -2},\n",
    "    'T': {'A': 0, 'R': -1, 'N': 0, 'D': -1, 'C': -1, 'Q': -1, 'E': -1, 'G': -2, 'H': -2, 'I': -1, 'L': -1, 'K': -1, 'M': -1, 'F': -2, 'P': -1, 'S': 1, 'T': 5, 'W': -2, 'Y': -2, 'V': 0},\n",
    "    'W': {'A': -3, 'R': -3, 'N': -4, 'D': -4, 'C': -2, 'Q': -2, 'E': -3, 'G': -2, 'H': -2, 'I': -3, 'L': -2, 'K': -3, 'M': -1, 'F': 1, 'P': -4, 'S': -3, 'T': -2, 'W': 11, 'Y': 2, 'V': -3},\n",
    "    'Y': {'A': -2, 'R': -2, 'N': -2, 'D': -3, 'C': -2, 'Q': -1, 'E': -2, 'G': -3, 'H': 2, 'I': -1, 'L': -1, 'K': -2, 'M': -1, 'F': 3, 'P': -3, 'S': -2, 'T': -2, 'W': 2, 'Y': 7, 'V': -1},\n",
    "    'V': {'A': 0, 'R': -3, 'N': -3, 'D': -3, 'C': -1, 'Q': -2, 'E': -2, 'G': -3, 'H': -3, 'I': 3, 'L': 1, 'K': -2, 'M': 1, 'F': -1, 'P': -2, 'S': -2, 'T': 0, 'W': -3, 'Y': -1, 'V': 4}\n",
    "}\n"
   ]
  },
  {
   "cell_type": "markdown",
   "metadata": {},
   "source": [
    "# Augmentation Methods"
   ]
  },
  {
   "cell_type": "code",
   "execution_count": 256,
   "metadata": {},
   "outputs": [],
   "source": [
    "# Create conservative substitution dictionary based on a threshold\n",
    "def create_conservative_dict(matrix, threshold=1):\n",
    "    # Create a dictionary to store the conservative substitutions\n",
    "    substitution_dict = {}\n",
    "    # Iterate over the rows of the matrix to find conservative substitutions\n",
    "    for aa1 in matrix:\n",
    "        substitution_dict[aa1] = [aa2 for aa2, score in matrix[aa1].items() if score >= threshold and aa1 != aa2]\n",
    "    return substitution_dict\n",
    "\n",
    "# Create a conservative substitution dictionary based on BLOSUM62 matrix\n",
    "conservative_substitutions_blosum = create_conservative_dict(blosum62)\n",
    "\n",
    "# Function to apply conservative mutations\n",
    "def conservative_mutate_sequence(seq, substitution_dict, mutation_rate=0.05):\n",
    "    # randomly mutate the sequence based on the substitution dictionary and mutation rate\n",
    "    mutated_seq = list(seq)\n",
    "    for i in range(len(seq)):\n",
    "        if random.random() < mutation_rate:\n",
    "            if seq[i] in substitution_dict and substitution_dict[seq[i]]:\n",
    "                mutated_seq[i] = random.choice(substitution_dict[seq[i]])\n",
    "    return ''.join(mutated_seq)\n",
    "\n",
    "# Generate augmented sequences by applying conservative mutations. \n",
    "def augment_sequences(sequences, substitution_dict, num_augmentations=3, mutation_rate=0.05):\n",
    "    augmented_sequences = []\n",
    "    for seq in sequences:\n",
    "        augmented_sequences.append(seq)  # Include the original sequence\n",
    "        for _ in range(num_augmentations):\n",
    "            mutated_seq = conservative_mutate_sequence(seq, substitution_dict, mutation_rate) # Apply conservative mutations\n",
    "            augmented_sequences.append(mutated_seq) # Include the mutated sequence\n",
    "    return augmented_sequences"
   ]
  },
  {
   "cell_type": "code",
   "execution_count": 257,
   "metadata": {},
   "outputs": [],
   "source": [
    "# One-hot encoding function\n",
    "def one_hot_encode(seq, vocab):\n",
    "    one_hot = np.zeros((len(seq), len(vocab)), dtype=np.float32)\n",
    "    for i, char in enumerate(seq):\n",
    "        if char in vocab:\n",
    "            one_hot[i, vocab.index(char)] = 1.0\n",
    "    return one_hot\n",
    "\n",
    "# Define your vocabularies\n",
    "aa_vocab = 'ACDEFGHIKLMNPQRSTVWY_'  # 20 amino acids + 1 for gap/unknown\n",
    "structure_vocab = 'he_'  # h for helix, e for sheet, _ for coil\n",
    "\n",
    "# Modified prepare_data function with augmentation\n",
    "def prepare_data(filepath, window_size=13, augment=False, num_augmentations=1, mutation_rate=0.05):\n",
    "    sequences = []\n",
    "    structures = []\n",
    "    current_seq = []\n",
    "    current_struct = []\n",
    "    processing_sequence = False  \n",
    "    \n",
    "    # Read the file line by line\n",
    "    with open(filepath, 'r') as file:\n",
    "        for line in file:\n",
    "            line = line.strip()\n",
    "            if line == '<>':  \n",
    "                if processing_sequence:  # We are ending a sequence block\n",
    "                    if current_seq and current_struct:\n",
    "                        # Augment sequences if required\n",
    "                        seqs_to_encode = [current_seq]\n",
    "                        if augment:\n",
    "                            # Generate augmented sequences\n",
    "                            seqs_to_encode = augment_sequences([current_seq], conservative_substitutions_blosum, num_augmentations, mutation_rate)\n",
    "\n",
    "                        for augmented_seq in seqs_to_encode:\n",
    "                            seq_encoded = one_hot_encode(augmented_seq, aa_vocab)  #One-hot encode sequence\n",
    "                            struct_encoded = one_hot_encode(current_struct, structure_vocab) # One-hot encode structure\n",
    "\n",
    "                            # Apply sliding window of determined size\n",
    "                            for i in range(len(seq_encoded) - window_size + 1):\n",
    "                                window = seq_encoded[i:i + window_size]\n",
    "                                label = struct_encoded[i + window_size // 2]\n",
    "                                sequences.append(window)\n",
    "                                structures.append(label)\n",
    "\n",
    "                    current_seq = []\n",
    "                    current_struct = []\n",
    "                processing_sequence = not processing_sequence\n",
    "                continue\n",
    "\n",
    "            elif 'end' in line: # end of sequence or file\n",
    "                continue  \n",
    "            \n",
    "             # If inside a sequence block, process the sequence\n",
    "            # handles errors in sequence end lines in the dataset\n",
    "            if processing_sequence:\n",
    "                parts = line.split()\n",
    "                if len(parts) != 2:\n",
    "                    continue  \n",
    "                current_seq.append(parts[0])\n",
    "                current_struct.append(parts[1])\n",
    "\n",
    "    return np.array(sequences), np.array(structures)"
   ]
  },
  {
   "cell_type": "code",
   "execution_count": 318,
   "metadata": {},
   "outputs": [],
   "source": [
    "# Set random seed for reproducibility\n",
    "tf.keras.utils.set_random_seed(42)\n",
    "\n",
    "# Example paths, replace with your actual file paths\n",
    "train_path = 'Q_and_s_data/protein-secondary-structure.train.txt'\n",
    "test_path = 'Q_and_s_data/protein-secondary-structure.test.txt'\n",
    "#test_path = 'datasets/cb513.txt'\n",
    "\n",
    "\n",
    "# Prepare augmented training data\n",
    "x_train, y_train = prepare_data(train_path, augment=True, num_augmentations=10, mutation_rate=0.025)\n",
    "# Prepare test data without augmentation\n",
    "x_test, y_test = prepare_data(test_path, augment=False, num_augmentations=0, mutation_rate=0.0)"
   ]
  },
  {
   "cell_type": "code",
   "execution_count": 319,
   "metadata": {},
   "outputs": [
    {
     "name": "stdout",
     "output_type": "stream",
     "text": [
      "(89210, 13, 21) (89210, 3)\n",
      "(1714, 13, 21) (1714, 3)\n"
     ]
    }
   ],
   "source": [
    "print(x_train.shape, y_train.shape)\n",
    "print(x_test.shape, y_test.shape)\n"
   ]
  },
  {
   "cell_type": "markdown",
   "metadata": {},
   "source": [
    "# Model Design and Training"
   ]
  },
  {
   "cell_type": "code",
   "execution_count": 320,
   "metadata": {},
   "outputs": [
    {
     "name": "stdout",
     "output_type": "stream",
     "text": [
      "Epoch 1/150\n"
     ]
    },
    {
     "name": "stderr",
     "output_type": "stream",
     "text": [
      "c:\\Users\\tomev\\anaconda3\\envs\\bio-cwk\\Lib\\site-packages\\keras\\src\\layers\\reshaping\\flatten.py:37: UserWarning: Do not pass an `input_shape`/`input_dim` argument to a layer. When using Sequential models, prefer using an `Input(shape)` object as the first layer in the model instead.\n",
      "  super().__init__(**kwargs)\n"
     ]
    },
    {
     "name": "stdout",
     "output_type": "stream",
     "text": [
      "\u001b[1m2788/2788\u001b[0m \u001b[32m━━━━━━━━━━━━━━━━━━━━\u001b[0m\u001b[37m\u001b[0m \u001b[1m2s\u001b[0m 734us/step - accuracy: 0.5199 - loss: 0.2108 - val_accuracy: 0.5642 - val_loss: 0.1911\n",
      "Epoch 2/150\n",
      "\u001b[1m2788/2788\u001b[0m \u001b[32m━━━━━━━━━━━━━━━━━━━━\u001b[0m\u001b[37m\u001b[0m \u001b[1m2s\u001b[0m 732us/step - accuracy: 0.5445 - loss: 0.1900 - val_accuracy: 0.5747 - val_loss: 0.1825\n",
      "Epoch 3/150\n",
      "\u001b[1m2788/2788\u001b[0m \u001b[32m━━━━━━━━━━━━━━━━━━━━\u001b[0m\u001b[37m\u001b[0m \u001b[1m2s\u001b[0m 727us/step - accuracy: 0.5706 - loss: 0.1798 - val_accuracy: 0.5875 - val_loss: 0.1763\n",
      "Epoch 4/150\n",
      "\u001b[1m2788/2788\u001b[0m \u001b[32m━━━━━━━━━━━━━━━━━━━━\u001b[0m\u001b[37m\u001b[0m \u001b[1m2s\u001b[0m 736us/step - accuracy: 0.5953 - loss: 0.1724 - val_accuracy: 0.6091 - val_loss: 0.1720\n",
      "Epoch 5/150\n",
      "\u001b[1m2788/2788\u001b[0m \u001b[32m━━━━━━━━━━━━━━━━━━━━\u001b[0m\u001b[37m\u001b[0m \u001b[1m2s\u001b[0m 750us/step - accuracy: 0.6142 - loss: 0.1672 - val_accuracy: 0.6243 - val_loss: 0.1692\n",
      "Epoch 6/150\n",
      "\u001b[1m2788/2788\u001b[0m \u001b[32m━━━━━━━━━━━━━━━━━━━━\u001b[0m\u001b[37m\u001b[0m \u001b[1m2s\u001b[0m 729us/step - accuracy: 0.6264 - loss: 0.1638 - val_accuracy: 0.6301 - val_loss: 0.1675\n",
      "Epoch 7/150\n",
      "\u001b[1m2788/2788\u001b[0m \u001b[32m━━━━━━━━━━━━━━━━━━━━\u001b[0m\u001b[37m\u001b[0m \u001b[1m2s\u001b[0m 742us/step - accuracy: 0.6337 - loss: 0.1617 - val_accuracy: 0.6348 - val_loss: 0.1665\n",
      "Epoch 8/150\n",
      "\u001b[1m2788/2788\u001b[0m \u001b[32m━━━━━━━━━━━━━━━━━━━━\u001b[0m\u001b[37m\u001b[0m \u001b[1m2s\u001b[0m 729us/step - accuracy: 0.6397 - loss: 0.1603 - val_accuracy: 0.6383 - val_loss: 0.1659\n",
      "Epoch 9/150\n",
      "\u001b[1m2788/2788\u001b[0m \u001b[32m━━━━━━━━━━━━━━━━━━━━\u001b[0m\u001b[37m\u001b[0m \u001b[1m2s\u001b[0m 740us/step - accuracy: 0.6431 - loss: 0.1594 - val_accuracy: 0.6476 - val_loss: 0.1655\n",
      "Epoch 10/150\n",
      "\u001b[1m2788/2788\u001b[0m \u001b[32m━━━━━━━━━━━━━━━━━━━━\u001b[0m\u001b[37m\u001b[0m \u001b[1m2s\u001b[0m 708us/step - accuracy: 0.6456 - loss: 0.1588 - val_accuracy: 0.6435 - val_loss: 0.1652\n",
      "Epoch 11/150\n",
      "\u001b[1m2788/2788\u001b[0m \u001b[32m━━━━━━━━━━━━━━━━━━━━\u001b[0m\u001b[37m\u001b[0m \u001b[1m2s\u001b[0m 730us/step - accuracy: 0.6483 - loss: 0.1584 - val_accuracy: 0.6412 - val_loss: 0.1651\n",
      "Epoch 12/150\n",
      "\u001b[1m2788/2788\u001b[0m \u001b[32m━━━━━━━━━━━━━━━━━━━━\u001b[0m\u001b[37m\u001b[0m \u001b[1m2s\u001b[0m 740us/step - accuracy: 0.6503 - loss: 0.1581 - val_accuracy: 0.6394 - val_loss: 0.1650\n",
      "Epoch 13/150\n",
      "\u001b[1m2788/2788\u001b[0m \u001b[32m━━━━━━━━━━━━━━━━━━━━\u001b[0m\u001b[37m\u001b[0m \u001b[1m2s\u001b[0m 725us/step - accuracy: 0.6512 - loss: 0.1579 - val_accuracy: 0.6365 - val_loss: 0.1649\n",
      "Epoch 14/150\n",
      "\u001b[1m2788/2788\u001b[0m \u001b[32m━━━━━━━━━━━━━━━━━━━━\u001b[0m\u001b[37m\u001b[0m \u001b[1m2s\u001b[0m 741us/step - accuracy: 0.6524 - loss: 0.1577 - val_accuracy: 0.6359 - val_loss: 0.1649\n",
      "Epoch 15/150\n",
      "\u001b[1m2788/2788\u001b[0m \u001b[32m━━━━━━━━━━━━━━━━━━━━\u001b[0m\u001b[37m\u001b[0m \u001b[1m2s\u001b[0m 733us/step - accuracy: 0.6527 - loss: 0.1576 - val_accuracy: 0.6330 - val_loss: 0.1648\n",
      "Epoch 16/150\n",
      "\u001b[1m2788/2788\u001b[0m \u001b[32m━━━━━━━━━━━━━━━━━━━━\u001b[0m\u001b[37m\u001b[0m \u001b[1m2s\u001b[0m 763us/step - accuracy: 0.6528 - loss: 0.1575 - val_accuracy: 0.6330 - val_loss: 0.1648\n",
      "Epoch 17/150\n",
      "\u001b[1m2788/2788\u001b[0m \u001b[32m━━━━━━━━━━━━━━━━━━━━\u001b[0m\u001b[37m\u001b[0m \u001b[1m2s\u001b[0m 777us/step - accuracy: 0.6529 - loss: 0.1574 - val_accuracy: 0.6324 - val_loss: 0.1648\n",
      "Epoch 18/150\n",
      "\u001b[1m2788/2788\u001b[0m \u001b[32m━━━━━━━━━━━━━━━━━━━━\u001b[0m\u001b[37m\u001b[0m \u001b[1m2s\u001b[0m 713us/step - accuracy: 0.6533 - loss: 0.1573 - val_accuracy: 0.6330 - val_loss: 0.1648\n",
      "Epoch 19/150\n",
      "\u001b[1m2788/2788\u001b[0m \u001b[32m━━━━━━━━━━━━━━━━━━━━\u001b[0m\u001b[37m\u001b[0m \u001b[1m2s\u001b[0m 734us/step - accuracy: 0.6531 - loss: 0.1573 - val_accuracy: 0.6342 - val_loss: 0.1648\n",
      "Epoch 20/150\n",
      "\u001b[1m2788/2788\u001b[0m \u001b[32m━━━━━━━━━━━━━━━━━━━━\u001b[0m\u001b[37m\u001b[0m \u001b[1m2s\u001b[0m 771us/step - accuracy: 0.6529 - loss: 0.1573 - val_accuracy: 0.6354 - val_loss: 0.1648\n",
      "Epoch 21/150\n",
      "\u001b[1m2788/2788\u001b[0m \u001b[32m━━━━━━━━━━━━━━━━━━━━\u001b[0m\u001b[37m\u001b[0m \u001b[1m2s\u001b[0m 713us/step - accuracy: 0.6531 - loss: 0.1572 - val_accuracy: 0.6354 - val_loss: 0.1648\n",
      "Epoch 22/150\n",
      "\u001b[1m2788/2788\u001b[0m \u001b[32m━━━━━━━━━━━━━━━━━━━━\u001b[0m\u001b[37m\u001b[0m \u001b[1m2s\u001b[0m 820us/step - accuracy: 0.6533 - loss: 0.1572 - val_accuracy: 0.6371 - val_loss: 0.1648\n",
      "Epoch 23/150\n",
      "\u001b[1m2788/2788\u001b[0m \u001b[32m━━━━━━━━━━━━━━━━━━━━\u001b[0m\u001b[37m\u001b[0m \u001b[1m2s\u001b[0m 726us/step - accuracy: 0.6535 - loss: 0.1572 - val_accuracy: 0.6359 - val_loss: 0.1648\n",
      "Epoch 24/150\n",
      "\u001b[1m2788/2788\u001b[0m \u001b[32m━━━━━━━━━━━━━━━━━━━━\u001b[0m\u001b[37m\u001b[0m \u001b[1m2s\u001b[0m 724us/step - accuracy: 0.6533 - loss: 0.1571 - val_accuracy: 0.6342 - val_loss: 0.1648\n",
      "Epoch 25/150\n",
      "\u001b[1m2788/2788\u001b[0m \u001b[32m━━━━━━━━━━━━━━━━━━━━\u001b[0m\u001b[37m\u001b[0m \u001b[1m2s\u001b[0m 714us/step - accuracy: 0.6533 - loss: 0.1571 - val_accuracy: 0.6342 - val_loss: 0.1648\n",
      "Epoch 26/150\n",
      "\u001b[1m2788/2788\u001b[0m \u001b[32m━━━━━━━━━━━━━━━━━━━━\u001b[0m\u001b[37m\u001b[0m \u001b[1m2s\u001b[0m 715us/step - accuracy: 0.6533 - loss: 0.1571 - val_accuracy: 0.6336 - val_loss: 0.1648\n",
      "Epoch 27/150\n",
      "\u001b[1m2788/2788\u001b[0m \u001b[32m━━━━━━━━━━━━━━━━━━━━\u001b[0m\u001b[37m\u001b[0m \u001b[1m2s\u001b[0m 722us/step - accuracy: 0.6533 - loss: 0.1571 - val_accuracy: 0.6330 - val_loss: 0.1648\n",
      "Epoch 28/150\n",
      "\u001b[1m2788/2788\u001b[0m \u001b[32m━━━━━━━━━━━━━━━━━━━━\u001b[0m\u001b[37m\u001b[0m \u001b[1m2s\u001b[0m 729us/step - accuracy: 0.6533 - loss: 0.1571 - val_accuracy: 0.6336 - val_loss: 0.1648\n",
      "Epoch 29/150\n",
      "\u001b[1m2788/2788\u001b[0m \u001b[32m━━━━━━━━━━━━━━━━━━━━\u001b[0m\u001b[37m\u001b[0m \u001b[1m2s\u001b[0m 746us/step - accuracy: 0.6534 - loss: 0.1571 - val_accuracy: 0.6342 - val_loss: 0.1648\n",
      "\u001b[1m54/54\u001b[0m \u001b[32m━━━━━━━━━━━━━━━━━━━━\u001b[0m\u001b[37m\u001b[0m \u001b[1m0s\u001b[0m 963us/step\n"
     ]
    }
   ],
   "source": [
    "# Set random seed for reproducibility\n",
    "tf.keras.utils.set_random_seed(42)\n",
    "\n",
    "# Define the model architecture\n",
    "hidden_units = 65  # Number of neurons in the hidden layer\n",
    "model = Sequential([\n",
    "    Flatten(input_shape=(13, 21)),  # The input shape is the window size x 21\n",
    "    Dense(hidden_units, activation='sigmoid'),  # Hidden layer with sigmoid activation\n",
    "    Dense(3, activation='linear')    # Output layer with linear activation for 3 classes\n",
    "])\n",
    "\n",
    "# Compile the model\n",
    "model.compile(optimizer='sgd',  # Stochastic gradient descent to simulate backpropagation\n",
    "              loss='mean_squared_error',  # Mean Squared Error as the loss function\n",
    "              metrics=['accuracy'])  # Track accuracy\n",
    "\n",
    "# Define early stopping callback to stop training when the validation accuracy stops improving\n",
    "early_stopping = EarlyStopping(monitor='val_accuracy', patience=20, restore_best_weights=True)\n",
    "\n",
    "# Train the model\n",
    "history = model.fit(\n",
    "    x_train, y_train,\n",
    "    epochs=150,  #  number of epochs large enough to allow for convergence \n",
    "    batch_size=32,  # batch size of 32 \n",
    "    validation_data=(x_test, y_test),  # Use the test set as the validation set\n",
    "    callbacks=[early_stopping] # Use the early stopping callback\n",
    "\n",
    ")\n",
    "\n",
    "# Evaluate the model\n",
    "final_pred = model.predict(x_test)\n"
   ]
  },
  {
   "cell_type": "markdown",
   "metadata": {},
   "source": [
    "# Evaluation"
   ]
  },
  {
   "cell_type": "code",
   "execution_count": 321,
   "metadata": {},
   "outputs": [
    {
     "name": "stdout",
     "output_type": "stream",
     "text": [
      "Q3 Score: 64.8 %\n",
      "Confusion Matrix:\n",
      " [[157  21 257]\n",
      " [ 58 106 162]\n",
      " [ 61  45 847]]\n",
      "MCC for class Helix: 0.32\n",
      "MCC for class Sheet: 0.36\n",
      "MCC for class Coil: 0.38\n"
     ]
    }
   ],
   "source": [
    "# performance metrics\n",
    "\n",
    "# Convert probabilities to class labels\n",
    "y_true_labels = np.argmax(y_test, axis=1)\n",
    "predicted_labels = np.argmax(final_pred, axis=1)\n",
    "\n",
    "# Calculate accuracy\n",
    "accuracy = accuracy_score(y_true_labels, predicted_labels)\n",
    "print(\"Q3 Score:\", round(accuracy * 100, 1), \"%\") \n",
    "\n",
    "# Calculate confusion matrix\n",
    "conf_matrix = confusion_matrix(y_true_labels, predicted_labels)\n",
    "print(\"Confusion Matrix:\\n\", conf_matrix)\n",
    "\n",
    "# Calculate Matthews Correlation Coefficient for each class\n",
    "mcc_scores = []\n",
    "for i in range(3):  # 3 classes: Helix, Sheet, Coil\n",
    "    # Create binary arrays for each class\n",
    "    true_binary = (y_true_labels == i).astype(int)\n",
    "    pred_binary = (predicted_labels == i).astype(int)\n",
    "\n",
    "    # Calculate MCC and handle cases with constant predictions\n",
    "    if np.unique(true_binary).size > 1 and np.unique(pred_binary).size > 1:\n",
    "        mcc = matthews_corrcoef(true_binary, pred_binary)\n",
    "    else:\n",
    "        mcc = 0  # Not enough data to compute MCC or one class constant\n",
    "    mcc_scores.append(mcc)\n",
    "    print(f\"MCC for class {['Helix', 'Sheet', 'Coil'][i]}: {mcc:.2f}\")"
   ]
  },
  {
   "cell_type": "code",
   "execution_count": 322,
   "metadata": {},
   "outputs": [
    {
     "name": "stdout",
     "output_type": "stream",
     "text": [
      "['Solarize_Light2', '_classic_test_patch', '_mpl-gallery', '_mpl-gallery-nogrid', 'bmh', 'classic', 'dark_background', 'fast', 'fivethirtyeight', 'ggplot', 'grayscale', 'seaborn-v0_8', 'seaborn-v0_8-bright', 'seaborn-v0_8-colorblind', 'seaborn-v0_8-dark', 'seaborn-v0_8-dark-palette', 'seaborn-v0_8-darkgrid', 'seaborn-v0_8-deep', 'seaborn-v0_8-muted', 'seaborn-v0_8-notebook', 'seaborn-v0_8-paper', 'seaborn-v0_8-pastel', 'seaborn-v0_8-poster', 'seaborn-v0_8-talk', 'seaborn-v0_8-ticks', 'seaborn-v0_8-white', 'seaborn-v0_8-whitegrid', 'tableau-colorblind10']\n"
     ]
    },
    {
     "data": {
      "image/png": "[encoded data removed]",
      "text/plain": [
       "<Figure size 1200x600 with 1 Axes>"
      ]
     },
     "metadata": {},
     "output_type": "display_data"
    }
   ],
   "source": [
    "print(plt.style.available)\n",
    "\n",
    "def plot_history(history):\n",
    " # Set the style\n",
    "    plt.style.use('seaborn-v0_8-dark')  # Using a clean and professional style\n",
    "\n",
    "    # Create figure and set size\n",
    "    plt.figure(figsize=(12, 6))\n",
    "\n",
    "    # Plot training & validation accuracy\n",
    "    plt.plot(history.history['accuracy'], linestyle='-', color='blue', linewidth=2)\n",
    "    plt.plot(history.history['val_accuracy'], linestyle='-', color='red', linewidth=2)\n",
    "    plt.title('Accuracy (Q3) and Loss against epochs with 65 Hidden Units', fontsize=18, fontweight='bold')\n",
    "    plt.ylabel('Accuracy', fontsize=16)\n",
    "    plt.xlabel('Epoch', fontsize=16)\n",
    "    plt.legend(['Train', 'Test'], loc='upper left')\n",
    "    plt.grid(True)   \n",
    "    \n",
    "    # save the plot\n",
    "    #plt.savefig('figures/original_model_accuracy_65_units.png',dpi=300, bbox_inches='tight')\n",
    "\n",
    "    # Show the plot\n",
    "    plt.show()\n",
    "\n",
    "plot_history(history) \n"
   ]
  }
 ],
 "metadata": {
  "kernelspec": {
   "display_name": "bio-cwk",
   "language": "python",
   "name": "python3"
  },
  "language_info": {
   "codemirror_mode": {
    "name": "ipython",
    "version": 3
   },
   "file_extension": ".py",
   "mimetype": "text/x-python",
   "name": "python",
   "nbconvert_exporter": "python",
   "pygments_lexer": "ipython3",
   "version": "3.11.9"
  }
 },
 "nbformat": 4,
 "nbformat_minor": 2
}
