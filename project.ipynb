{
 "cells": [
  {
   "cell_type": "markdown",
   "metadata": {},
   "source": [
    "# Specification\n",
    "\n",
    "## Project 1 -Predict secondary protein structure given the sequence. \n",
    "\n",
    "### Completion requirements:\n",
    "\n",
    "- Reimplement the network described by Qian and Sejnowski in 1988\n",
    "\n",
    "\n",
    "- Test and compare your accuracy - using their data\n",
    "\n",
    "\n",
    "- Implement a single improvement, such as profiling\n",
    "\n",
    "\n",
    "- Test and compare your accuracy again\n",
    "\n",
    "\n",
    "- Does the model get similar accuracy on unseen datasets?\n",
    "\n",
    "\n",
    "- Extend your work to other methods, e.g. can large language models help? How about SVMs?"
   ]
  },
  {
   "cell_type": "code",
   "execution_count": 1,
   "metadata": {},
   "outputs": [],
   "source": []
  }
 ],
 "metadata": {
  "kernelspec": {
   "display_name": "Python 3",
   "language": "python",
   "name": "python3"
  },
  "language_info": {
   "codemirror_mode": {
    "name": "ipython",
    "version": 3
   },
   "file_extension": ".py",
   "mimetype": "text/x-python",
   "name": "python",
   "nbconvert_exporter": "python",
   "pygments_lexer": "ipython3",
   "version": "3.11.9"
  }
 },
 "nbformat": 4,
 "nbformat_minor": 2
}
